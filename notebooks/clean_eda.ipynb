{
 "cells": [
  {
   "cell_type": "markdown",
   "metadata": {},
   "source": [
    "# Retail Banking — Data Cleaning, EDA, and RFM Segmentation\n",
    "\n",
    "**Objective:** Prepare transaction data for customer insights and segmentation.\n",
    "\n",
    "**Workflow:**\n",
    "1. **Data Ingestion** — Load raw data and inspect schema\n",
    "2. **Data Cleaning** — Fix dates, times, types, and check duplicates\n",
    "3. **Exploratory Data Analysis** — Understand distributions, outliers, patterns\n",
    "4. **RFM Segmentation** — Build customer scores and segments\n",
    "5. **Save Outputs** — Export clean data for modeling/dashboards\n"
   ]
  },
  {
   "cell_type": "markdown",
   "metadata": {},
   "source": [
    "---\n",
    "## 1. Data Ingestion\n"
   ]
  },
  {
   "cell_type": "code",
   "execution_count": 17,
   "metadata": {},
   "outputs": [],
   "source": [
    "import numpy as np\n",
    "import pandas as pd\n",
    "import seaborn as sns\n",
    "import matplotlib.pyplot as plt\n",
    "\n",
    "sns.set_style(\"whitegrid\")\n",
    "pd.options.display.float_format = '{:.2f}'.format\n"
   ]
  },
  {
   "cell_type": "code",
   "execution_count": 18,
   "metadata": {},
   "outputs": [
    {
     "name": "stdout",
     "output_type": "stream",
     "text": [
      "Loaded 1,041,614 rows\n"
     ]
    },
    {
     "data": {
      "text/html": [
       "<div>\n",
       "<style scoped>\n",
       "    .dataframe tbody tr th:only-of-type {\n",
       "        vertical-align: middle;\n",
       "    }\n",
       "\n",
       "    .dataframe tbody tr th {\n",
       "        vertical-align: top;\n",
       "    }\n",
       "\n",
       "    .dataframe thead th {\n",
       "        text-align: right;\n",
       "    }\n",
       "</style>\n",
       "<table border=\"1\" class=\"dataframe\">\n",
       "  <thead>\n",
       "    <tr style=\"text-align: right;\">\n",
       "      <th></th>\n",
       "      <th>TransactionID</th>\n",
       "      <th>CustomerID</th>\n",
       "      <th>CustomerDOB</th>\n",
       "      <th>CustGender</th>\n",
       "      <th>CustLocation</th>\n",
       "      <th>CustAccountBalance</th>\n",
       "      <th>TransactionDate</th>\n",
       "      <th>TransactionTime</th>\n",
       "      <th>TransactionAmount (INR)</th>\n",
       "    </tr>\n",
       "  </thead>\n",
       "  <tbody>\n",
       "    <tr>\n",
       "      <th>0</th>\n",
       "      <td>T1</td>\n",
       "      <td>C5841053</td>\n",
       "      <td>10/1/94</td>\n",
       "      <td>F</td>\n",
       "      <td>JAMSHEDPUR</td>\n",
       "      <td>17819.05</td>\n",
       "      <td>2/8/16</td>\n",
       "      <td>143207</td>\n",
       "      <td>25.00</td>\n",
       "    </tr>\n",
       "    <tr>\n",
       "      <th>1</th>\n",
       "      <td>T2</td>\n",
       "      <td>C2142763</td>\n",
       "      <td>4/4/57</td>\n",
       "      <td>M</td>\n",
       "      <td>JHAJJAR</td>\n",
       "      <td>2270.69</td>\n",
       "      <td>2/8/16</td>\n",
       "      <td>141858</td>\n",
       "      <td>27999.00</td>\n",
       "    </tr>\n",
       "    <tr>\n",
       "      <th>2</th>\n",
       "      <td>T3</td>\n",
       "      <td>C4417068</td>\n",
       "      <td>26/11/96</td>\n",
       "      <td>F</td>\n",
       "      <td>MUMBAI</td>\n",
       "      <td>17874.44</td>\n",
       "      <td>2/8/16</td>\n",
       "      <td>142712</td>\n",
       "      <td>459.00</td>\n",
       "    </tr>\n",
       "    <tr>\n",
       "      <th>3</th>\n",
       "      <td>T4</td>\n",
       "      <td>C5342380</td>\n",
       "      <td>14/9/73</td>\n",
       "      <td>F</td>\n",
       "      <td>MUMBAI</td>\n",
       "      <td>866503.21</td>\n",
       "      <td>2/8/16</td>\n",
       "      <td>142714</td>\n",
       "      <td>2060.00</td>\n",
       "    </tr>\n",
       "    <tr>\n",
       "      <th>4</th>\n",
       "      <td>T5</td>\n",
       "      <td>C9031234</td>\n",
       "      <td>24/3/88</td>\n",
       "      <td>F</td>\n",
       "      <td>NAVI MUMBAI</td>\n",
       "      <td>6714.43</td>\n",
       "      <td>2/8/16</td>\n",
       "      <td>181156</td>\n",
       "      <td>1762.50</td>\n",
       "    </tr>\n",
       "  </tbody>\n",
       "</table>\n",
       "</div>"
      ],
      "text/plain": [
       "  TransactionID CustomerID CustomerDOB CustGender CustLocation  \\\n",
       "0            T1   C5841053     10/1/94          F   JAMSHEDPUR   \n",
       "1            T2   C2142763      4/4/57          M      JHAJJAR   \n",
       "2            T3   C4417068    26/11/96          F       MUMBAI   \n",
       "3            T4   C5342380     14/9/73          F       MUMBAI   \n",
       "4            T5   C9031234     24/3/88          F  NAVI MUMBAI   \n",
       "\n",
       "   CustAccountBalance TransactionDate  TransactionTime  \\\n",
       "0            17819.05          2/8/16           143207   \n",
       "1             2270.69          2/8/16           141858   \n",
       "2            17874.44          2/8/16           142712   \n",
       "3           866503.21          2/8/16           142714   \n",
       "4             6714.43          2/8/16           181156   \n",
       "\n",
       "   TransactionAmount (INR)  \n",
       "0                    25.00  \n",
       "1                 27999.00  \n",
       "2                   459.00  \n",
       "3                  2060.00  \n",
       "4                  1762.50  "
      ]
     },
     "execution_count": 18,
     "metadata": {},
     "output_type": "execute_result"
    }
   ],
   "source": [
    "# Load raw data\n",
    "data = pd.read_csv(\"../data/bank_data_C.csv\")\n",
    "print(f\"Loaded {len(data):,} rows\")\n",
    "data.head()\n"
   ]
  },
  {
   "cell_type": "markdown",
   "metadata": {},
   "source": [
    "**Schema check:** Confirm columns match the data dictionary from the instructions.\n"
   ]
  },
  {
   "cell_type": "code",
   "execution_count": 19,
   "metadata": {},
   "outputs": [
    {
     "name": "stdout",
     "output_type": "stream",
     "text": [
      "<class 'pandas.core.frame.DataFrame'>\n",
      "RangeIndex: 1041614 entries, 0 to 1041613\n",
      "Data columns (total 9 columns):\n",
      " #   Column                   Non-Null Count    Dtype  \n",
      "---  ------                   --------------    -----  \n",
      " 0   TransactionID            1041614 non-null  object \n",
      " 1   CustomerID               1041614 non-null  object \n",
      " 2   CustomerDOB              1041614 non-null  object \n",
      " 3   CustGender               1041614 non-null  object \n",
      " 4   CustLocation             1041614 non-null  object \n",
      " 5   CustAccountBalance       1041614 non-null  float64\n",
      " 6   TransactionDate          1041614 non-null  object \n",
      " 7   TransactionTime          1041614 non-null  int64  \n",
      " 8   TransactionAmount (INR)  1041614 non-null  float64\n",
      "dtypes: float64(2), int64(1), object(6)\n",
      "memory usage: 71.5+ MB\n"
     ]
    }
   ],
   "source": [
    "data.info()\n"
   ]
  },
  {
   "cell_type": "markdown",
   "metadata": {},
   "source": [
    "---\n",
    "## 2. Data Cleaning\n",
    "\n",
    "We'll systematically clean:\n",
    "- Column names (remove units like \"(INR)\")\n",
    "- Dates (parse day-first format, fix 2-digit year issues)\n",
    "- Time fields (parse HHMMSS format)\n",
    "- Duplicates (ensure unique transactions)\n"
   ]
  },
  {
   "cell_type": "markdown",
   "metadata": {},
   "source": [
    "### 2.1 Rename columns\n"
   ]
  },
  {
   "cell_type": "code",
   "execution_count": 20,
   "metadata": {},
   "outputs": [
    {
     "data": {
      "text/plain": [
       "['TransactionID',\n",
       " 'CustomerID',\n",
       " 'CustomerDOB',\n",
       " 'CustGender',\n",
       " 'CustLocation',\n",
       " 'CustAccountBalance',\n",
       " 'TransactionDate',\n",
       " 'TransactionTime',\n",
       " 'TransactionAmount']"
      ]
     },
     "execution_count": 20,
     "metadata": {},
     "output_type": "execute_result"
    }
   ],
   "source": [
    "data = data.rename(columns={\"TransactionAmount (INR)\": \"TransactionAmount\"})\n",
    "list(data.columns)\n"
   ]
  },
  {
   "cell_type": "markdown",
   "metadata": {},
   "source": [
    "### 2.2 Parse dates\n",
    "\n",
    "**Why:** Dates like `10/1/94` are ambiguous—pandas might misinterpret them. We normalize to `DD/MM/YY` first, then parse with an explicit format.\n"
   ]
  },
  {
   "cell_type": "code",
   "execution_count": 21,
   "metadata": {},
   "outputs": [
    {
     "data": {
      "text/html": [
       "<div>\n",
       "<style scoped>\n",
       "    .dataframe tbody tr th:only-of-type {\n",
       "        vertical-align: middle;\n",
       "    }\n",
       "\n",
       "    .dataframe tbody tr th {\n",
       "        vertical-align: top;\n",
       "    }\n",
       "\n",
       "    .dataframe thead th {\n",
       "        text-align: right;\n",
       "    }\n",
       "</style>\n",
       "<table border=\"1\" class=\"dataframe\">\n",
       "  <thead>\n",
       "    <tr style=\"text-align: right;\">\n",
       "      <th></th>\n",
       "      <th>CustomerDOB</th>\n",
       "      <th>TransactionDate</th>\n",
       "    </tr>\n",
       "  </thead>\n",
       "  <tbody>\n",
       "    <tr>\n",
       "      <th>0</th>\n",
       "      <td>1994-01-10</td>\n",
       "      <td>2016-08-02</td>\n",
       "    </tr>\n",
       "    <tr>\n",
       "      <th>1</th>\n",
       "      <td>2057-04-04</td>\n",
       "      <td>2016-08-02</td>\n",
       "    </tr>\n",
       "    <tr>\n",
       "      <th>2</th>\n",
       "      <td>1996-11-26</td>\n",
       "      <td>2016-08-02</td>\n",
       "    </tr>\n",
       "    <tr>\n",
       "      <th>3</th>\n",
       "      <td>1973-09-14</td>\n",
       "      <td>2016-08-02</td>\n",
       "    </tr>\n",
       "    <tr>\n",
       "      <th>4</th>\n",
       "      <td>1988-03-24</td>\n",
       "      <td>2016-08-02</td>\n",
       "    </tr>\n",
       "  </tbody>\n",
       "</table>\n",
       "</div>"
      ],
      "text/plain": [
       "  CustomerDOB TransactionDate\n",
       "0  1994-01-10      2016-08-02\n",
       "1  2057-04-04      2016-08-02\n",
       "2  1996-11-26      2016-08-02\n",
       "3  1973-09-14      2016-08-02\n",
       "4  1988-03-24      2016-08-02"
      ]
     },
     "execution_count": 21,
     "metadata": {},
     "output_type": "execute_result"
    }
   ],
   "source": [
    "def normalize_dmy(x):\n",
    "    \"\"\"Normalize day-first dates to DD/MM/YY format.\"\"\"\n",
    "    if pd.isna(x): return np.nan\n",
    "    try:\n",
    "        d, m, y = str(x).strip().split('/')\n",
    "        return f\"{int(d):02d}/{int(m):02d}/{int(y):02d}\"\n",
    "    except:\n",
    "        return np.nan\n",
    "\n",
    "for col in [\"CustomerDOB\", \"TransactionDate\"]:\n",
    "    data[col] = data[col].map(normalize_dmy)\n",
    "    data[col] = pd.to_datetime(data[col], format=\"%d/%m/%y\", errors=\"coerce\")\n",
    "\n",
    "data[[\"CustomerDOB\", \"TransactionDate\"]].head()\n"
   ]
  },
  {
   "cell_type": "markdown",
   "metadata": {},
   "source": [
    "### 2.3 Fix future DOBs\n",
    "\n",
    "**Issue:** Two-digit year parsing assumes `00-68 → 2000-2068` and `69-99 → 1969-1999`. This creates future DOBs like `2057`.\n",
    "\n",
    "**Fix:** Subtract 100 years from any DOB > today.\n"
   ]
  },
  {
   "cell_type": "code",
   "execution_count": 22,
   "metadata": {},
   "outputs": [
    {
     "name": "stdout",
     "output_type": "stream",
     "text": [
      "✅ Fixed 54111 future DOBs\n"
     ]
    },
    {
     "data": {
      "text/html": [
       "<div>\n",
       "<style scoped>\n",
       "    .dataframe tbody tr th:only-of-type {\n",
       "        vertical-align: middle;\n",
       "    }\n",
       "\n",
       "    .dataframe tbody tr th {\n",
       "        vertical-align: top;\n",
       "    }\n",
       "\n",
       "    .dataframe thead th {\n",
       "        text-align: right;\n",
       "    }\n",
       "</style>\n",
       "<table border=\"1\" class=\"dataframe\">\n",
       "  <thead>\n",
       "    <tr style=\"text-align: right;\">\n",
       "      <th></th>\n",
       "      <th>CustomerDOB</th>\n",
       "    </tr>\n",
       "  </thead>\n",
       "  <tbody>\n",
       "    <tr>\n",
       "      <th>0</th>\n",
       "      <td>1994-01-10</td>\n",
       "    </tr>\n",
       "    <tr>\n",
       "      <th>1</th>\n",
       "      <td>1957-04-04</td>\n",
       "    </tr>\n",
       "    <tr>\n",
       "      <th>2</th>\n",
       "      <td>1996-11-26</td>\n",
       "    </tr>\n",
       "    <tr>\n",
       "      <th>3</th>\n",
       "      <td>1973-09-14</td>\n",
       "    </tr>\n",
       "    <tr>\n",
       "      <th>4</th>\n",
       "      <td>1988-03-24</td>\n",
       "    </tr>\n",
       "    <tr>\n",
       "      <th>5</th>\n",
       "      <td>1972-10-08</td>\n",
       "    </tr>\n",
       "    <tr>\n",
       "      <th>6</th>\n",
       "      <td>1992-01-26</td>\n",
       "    </tr>\n",
       "    <tr>\n",
       "      <th>7</th>\n",
       "      <td>1982-01-27</td>\n",
       "    </tr>\n",
       "    <tr>\n",
       "      <th>8</th>\n",
       "      <td>1988-04-19</td>\n",
       "    </tr>\n",
       "    <tr>\n",
       "      <th>9</th>\n",
       "      <td>1984-06-22</td>\n",
       "    </tr>\n",
       "  </tbody>\n",
       "</table>\n",
       "</div>"
      ],
      "text/plain": [
       "  CustomerDOB\n",
       "0  1994-01-10\n",
       "1  1957-04-04\n",
       "2  1996-11-26\n",
       "3  1973-09-14\n",
       "4  1988-03-24\n",
       "5  1972-10-08\n",
       "6  1992-01-26\n",
       "7  1982-01-27\n",
       "8  1988-04-19\n",
       "9  1984-06-22"
      ]
     },
     "execution_count": 22,
     "metadata": {},
     "output_type": "execute_result"
    }
   ],
   "source": [
    "from pandas.tseries.offsets import DateOffset\n",
    "\n",
    "mask = data[\"CustomerDOB\"] > pd.Timestamp.today()\n",
    "data.loc[mask, \"CustomerDOB\"] -= DateOffset(years=100)\n",
    "print(f\"✅ Fixed {mask.sum()} future DOBs\")\n",
    "data[[\"CustomerDOB\"]].head(10)\n"
   ]
  },
  {
   "cell_type": "markdown",
   "metadata": {},
   "source": [
    "### 2.4 Parse transaction time\n",
    "\n",
    "**Why:** Combine date + time for accurate temporal analysis (e.g., hourly patterns).\n"
   ]
  },
  {
   "cell_type": "code",
   "execution_count": 23,
   "metadata": {},
   "outputs": [
    {
     "name": "stdout",
     "output_type": "stream",
     "text": [
      "Datetime nulls: 0\n"
     ]
    },
    {
     "data": {
      "text/html": [
       "<div>\n",
       "<style scoped>\n",
       "    .dataframe tbody tr th:only-of-type {\n",
       "        vertical-align: middle;\n",
       "    }\n",
       "\n",
       "    .dataframe tbody tr th {\n",
       "        vertical-align: top;\n",
       "    }\n",
       "\n",
       "    .dataframe thead th {\n",
       "        text-align: right;\n",
       "    }\n",
       "</style>\n",
       "<table border=\"1\" class=\"dataframe\">\n",
       "  <thead>\n",
       "    <tr style=\"text-align: right;\">\n",
       "      <th></th>\n",
       "      <th>TransactionDate</th>\n",
       "      <th>TransactionTime</th>\n",
       "      <th>TransactionDateTime</th>\n",
       "    </tr>\n",
       "  </thead>\n",
       "  <tbody>\n",
       "    <tr>\n",
       "      <th>0</th>\n",
       "      <td>2016-08-02</td>\n",
       "      <td>143207</td>\n",
       "      <td>2016-08-02 14:32:07</td>\n",
       "    </tr>\n",
       "    <tr>\n",
       "      <th>1</th>\n",
       "      <td>2016-08-02</td>\n",
       "      <td>141858</td>\n",
       "      <td>2016-08-02 14:18:58</td>\n",
       "    </tr>\n",
       "    <tr>\n",
       "      <th>2</th>\n",
       "      <td>2016-08-02</td>\n",
       "      <td>142712</td>\n",
       "      <td>2016-08-02 14:27:12</td>\n",
       "    </tr>\n",
       "    <tr>\n",
       "      <th>3</th>\n",
       "      <td>2016-08-02</td>\n",
       "      <td>142714</td>\n",
       "      <td>2016-08-02 14:27:14</td>\n",
       "    </tr>\n",
       "    <tr>\n",
       "      <th>4</th>\n",
       "      <td>2016-08-02</td>\n",
       "      <td>181156</td>\n",
       "      <td>2016-08-02 18:11:56</td>\n",
       "    </tr>\n",
       "  </tbody>\n",
       "</table>\n",
       "</div>"
      ],
      "text/plain": [
       "  TransactionDate  TransactionTime TransactionDateTime\n",
       "0      2016-08-02           143207 2016-08-02 14:32:07\n",
       "1      2016-08-02           141858 2016-08-02 14:18:58\n",
       "2      2016-08-02           142712 2016-08-02 14:27:12\n",
       "3      2016-08-02           142714 2016-08-02 14:27:14\n",
       "4      2016-08-02           181156 2016-08-02 18:11:56"
      ]
     },
     "execution_count": 23,
     "metadata": {},
     "output_type": "execute_result"
    }
   ],
   "source": [
    "tt = data[\"TransactionTime\"].astype(str).str.zfill(6)  # Pad to HHMMSS\n",
    "data[\"TransactionDateTime\"] = pd.to_datetime(\n",
    "    data[\"TransactionDate\"].dt.strftime(\"%Y-%m-%d\") + \" \" + tt,\n",
    "    format=\"%Y-%m-%d %H%M%S\", errors=\"coerce\"\n",
    ")\n",
    "print(f\"Datetime nulls: {data['TransactionDateTime'].isna().sum()}\")\n",
    "data[[\"TransactionDate\", \"TransactionTime\", \"TransactionDateTime\"]].head()\n"
   ]
  },
  {
   "cell_type": "markdown",
   "metadata": {},
   "source": [
    "### 2.5 Duplicate check\n"
   ]
  },
  {
   "cell_type": "code",
   "execution_count": 24,
   "metadata": {},
   "outputs": [
    {
     "name": "stdout",
     "output_type": "stream",
     "text": [
      "Exact duplicates: 0\n",
      "Duplicate TransactionIDs: 0\n"
     ]
    }
   ],
   "source": [
    "exact_dups = data.duplicated().sum()\n",
    "txid_dups = data[\"TransactionID\"].duplicated().sum()\n",
    "print(f\"Exact duplicates: {exact_dups}\")\n",
    "print(f\"Duplicate TransactionIDs: {txid_dups}\")\n"
   ]
  },
  {
   "cell_type": "markdown",
   "metadata": {},
   "source": [
    "**Result:** No duplicates found → all rows are unique transactions.\n"
   ]
  },
  {
   "cell_type": "markdown",
   "metadata": {},
   "source": [
    "---\n",
    "## 3. Exploratory Data Analysis (EDA)\n"
   ]
  },
  {
   "cell_type": "markdown",
   "metadata": {},
   "source": [
    "### 3.1 Summary statistics\n"
   ]
  },
  {
   "cell_type": "code",
   "execution_count": 25,
   "metadata": {},
   "outputs": [
    {
     "data": {
      "text/plain": [
       "Total Rows                           1041614\n",
       "Unique Customers                      879358\n",
       "Date Range          2016-08-01 to 2016-10-21\n",
       "Missing DOB                            56292\n",
       "dtype: object"
      ]
     },
     "execution_count": 25,
     "metadata": {},
     "output_type": "execute_result"
    }
   ],
   "source": [
    "summary = {\n",
    "    \"Total Rows\": len(data),\n",
    "    \"Unique Customers\": data[\"CustomerID\"].nunique(),\n",
    "    \"Date Range\": f\"{data['TransactionDate'].min().date()} to {data['TransactionDate'].max().date()}\",\n",
    "    \"Missing DOB\": data[\"CustomerDOB\"].isna().sum()\n",
    "}\n",
    "pd.Series(summary)\n"
   ]
  },
  {
   "cell_type": "code",
   "execution_count": 26,
   "metadata": {},
   "outputs": [
    {
     "data": {
      "text/html": [
       "<div>\n",
       "<style scoped>\n",
       "    .dataframe tbody tr th:only-of-type {\n",
       "        vertical-align: middle;\n",
       "    }\n",
       "\n",
       "    .dataframe tbody tr th {\n",
       "        vertical-align: top;\n",
       "    }\n",
       "\n",
       "    .dataframe thead th {\n",
       "        text-align: right;\n",
       "    }\n",
       "</style>\n",
       "<table border=\"1\" class=\"dataframe\">\n",
       "  <thead>\n",
       "    <tr style=\"text-align: right;\">\n",
       "      <th></th>\n",
       "      <th>count</th>\n",
       "      <th>mean</th>\n",
       "      <th>std</th>\n",
       "      <th>min</th>\n",
       "      <th>1%</th>\n",
       "      <th>5%</th>\n",
       "      <th>25%</th>\n",
       "      <th>50%</th>\n",
       "      <th>75%</th>\n",
       "      <th>95%</th>\n",
       "      <th>99%</th>\n",
       "      <th>max</th>\n",
       "    </tr>\n",
       "  </thead>\n",
       "  <tbody>\n",
       "    <tr>\n",
       "      <th>TransactionAmount</th>\n",
       "      <td>1041614.00</td>\n",
       "      <td>1566.10</td>\n",
       "      <td>6561.46</td>\n",
       "      <td>0.00</td>\n",
       "      <td>8.00</td>\n",
       "      <td>30.00</td>\n",
       "      <td>160.00</td>\n",
       "      <td>457.50</td>\n",
       "      <td>1200.00</td>\n",
       "      <td>5176.00</td>\n",
       "      <td>20000.00</td>\n",
       "      <td>1560034.99</td>\n",
       "    </tr>\n",
       "    <tr>\n",
       "      <th>CustAccountBalance</th>\n",
       "      <td>1041614.00</td>\n",
       "      <td>114998.61</td>\n",
       "      <td>846760.94</td>\n",
       "      <td>0.00</td>\n",
       "      <td>3.35</td>\n",
       "      <td>70.15</td>\n",
       "      <td>4728.14</td>\n",
       "      <td>16768.52</td>\n",
       "      <td>57428.85</td>\n",
       "      <td>414522.23</td>\n",
       "      <td>1586508.61</td>\n",
       "      <td>115035495.10</td>\n",
       "    </tr>\n",
       "  </tbody>\n",
       "</table>\n",
       "</div>"
      ],
      "text/plain": [
       "                        count      mean       std  min   1%    5%     25%  \\\n",
       "TransactionAmount  1041614.00   1566.10   6561.46 0.00 8.00 30.00  160.00   \n",
       "CustAccountBalance 1041614.00 114998.61 846760.94 0.00 3.35 70.15 4728.14   \n",
       "\n",
       "                        50%      75%       95%        99%          max  \n",
       "TransactionAmount    457.50  1200.00   5176.00   20000.00   1560034.99  \n",
       "CustAccountBalance 16768.52 57428.85 414522.23 1586508.61 115035495.10  "
      ]
     },
     "execution_count": 26,
     "metadata": {},
     "output_type": "execute_result"
    }
   ],
   "source": [
    "data[[\"TransactionAmount\", \"CustAccountBalance\"]].describe(percentiles=[0.01, 0.05, 0.25, 0.5, 0.75, 0.95, 0.99]).T\n"
   ]
  },
  {
   "cell_type": "markdown",
   "metadata": {},
   "source": [
    "**Key Observations:**\n",
    "- ~880k unique customers, 1.04M transactions over ~2.5 months (Aug–Oct 2016)\n",
    "- **Heavy right skew:** Max >> 99th percentile for both amount and balance\n",
    "  - TransactionAmount: max = 1.56M vs 99th = 20K\n",
    "  - CustAccountBalance: max = 115M vs 99th = 1.59M\n",
    "- This suggests **extreme outliers** that could dominate plots and distort insights\n"
   ]
  },
  {
   "cell_type": "markdown",
   "metadata": {},
   "source": [
    "### 3.2 Outlier Detection\n",
    "\n",
    "We'll use **two methods** to detect outliers:\n",
    "\n",
    "#### Method 1: IQR (Interquartile Range)\n",
    "- Calculate Q1 (25th percentile) and Q3 (75th percentile)\n",
    "- IQR = Q3 - Q1\n",
    "- Outliers are values < Q1 - 1.5×IQR or > Q3 + 1.5×IQR\n",
    "- **Pro:** Standard statistical method, robust to extreme values\n",
    "- **Con:** Can flag too many points in skewed distributions\n",
    "\n",
    "#### Method 2: Percentile thresholds\n",
    "- Flag values below 1st percentile or above 99th percentile\n",
    "- **Pro:** Simple, controls outlier proportion (keeps 98% of data)\n",
    "- **Con:** Arbitrary cutoffs\n"
   ]
  },
  {
   "cell_type": "code",
   "execution_count": 27,
   "metadata": {},
   "outputs": [
    {
     "name": "stdout",
     "output_type": "stream",
     "text": [
      "=== IQR Method ===\n",
      "\n",
      "TransactionAmount:\n",
      "  IQR bounds: [-1,400.00, 2,760.00]\n",
      "  Outliers: 0 below, 110614 above (10.6% total)\n",
      "\n",
      "CustAccountBalance:\n",
      "  IQR bounds: [-74,322.93, 136,479.92]\n",
      "  Outliers: 0 below, 140263 above (13.5% total)\n"
     ]
    }
   ],
   "source": [
    "# Method 1: IQR-based outlier detection\n",
    "def iqr_outliers(series):\n",
    "    q1, q3 = series.quantile([0.25, 0.75])\n",
    "    iqr = q3 - q1\n",
    "    lower, upper = q1 - 1.5*iqr, q3 + 1.5*iqr\n",
    "    return lower, upper, (series < lower).sum(), (series > upper).sum()\n",
    "\n",
    "print(\"=== IQR Method ===\")\n",
    "for col in [\"TransactionAmount\", \"CustAccountBalance\"]:\n",
    "    lower, upper, n_low, n_high = iqr_outliers(data[col].dropna())\n",
    "    pct_outliers = 100 * (n_low + n_high) / len(data)\n",
    "    print(f\"\\n{col}:\")\n",
    "    print(f\"  IQR bounds: [{lower:,.2f}, {upper:,.2f}]\")\n",
    "    print(f\"  Outliers: {n_low} below, {n_high} above ({pct_outliers:.1f}% total)\")\n"
   ]
  },
  {
   "cell_type": "code",
   "execution_count": 28,
   "metadata": {},
   "outputs": [
    {
     "name": "stdout",
     "output_type": "stream",
     "text": [
      "\n",
      "=== Percentile Method (1% / 99%) ===\n",
      "\n",
      "TransactionAmount:\n",
      "  1st percentile: 8.00\n",
      "  99th percentile: 20,000.00\n",
      "  Outliers: 10112 below, 9976 above (2% by definition)\n",
      "\n",
      "CustAccountBalance:\n",
      "  1st percentile: 3.35\n",
      "  99th percentile: 1,586,508.61\n",
      "  Outliers: 10416 below, 10386 above (2% by definition)\n"
     ]
    }
   ],
   "source": [
    "# Method 2: Percentile-based outlier detection\n",
    "print(\"\\n=== Percentile Method (1% / 99%) ===\")\n",
    "for col in [\"TransactionAmount\", \"CustAccountBalance\"]:\n",
    "    p1, p99 = data[col].quantile([0.01, 0.99])\n",
    "    n_below = (data[col] < p1).sum()\n",
    "    n_above = (data[col] > p99).sum()\n",
    "    print(f\"\\n{col}:\")\n",
    "    print(f\"  1st percentile: {p1:,.2f}\")\n",
    "    print(f\"  99th percentile: {p99:,.2f}\")\n",
    "    print(f\"  Outliers: {n_below} below, {n_above} above (2% by definition)\")\n"
   ]
  },
  {
   "cell_type": "markdown",
   "metadata": {},
   "source": [
    "### 3.3 Decision: Capping Strategy\n",
    "\n",
    "**Problem:** Outliers will dominate visualizations (e.g., histograms compressed to the left, scatter plots unreadable).\n",
    "\n",
    "**Solution:** Create a **capped copy for visualizations only**\n",
    "- Cap at **1st and 99th percentiles**\n",
    "- **Keep raw data intact** for modeling (algorithms like Random Forest handle outliers well)\n",
    "- This balances **visual clarity** with **data integrity**\n",
    "\n",
    "**Why 1%/99% instead of IQR?**\n",
    "- IQR flags 10-13% of data as outliers (too aggressive for skewed banking data)\n",
    "- 1%/99% keeps 98% of observations, improving plot readability while retaining most variation\n"
   ]
  },
  {
   "cell_type": "code",
   "execution_count": 29,
   "metadata": {},
   "outputs": [
    {
     "name": "stdout",
     "output_type": "stream",
     "text": [
      "✅ Created capped copy 'eda' for visualizations\n",
      "✅ Original 'data' remains unchanged for modeling\n"
     ]
    },
    {
     "data": {
      "text/html": [
       "<div>\n",
       "<style scoped>\n",
       "    .dataframe tbody tr th:only-of-type {\n",
       "        vertical-align: middle;\n",
       "    }\n",
       "\n",
       "    .dataframe tbody tr th {\n",
       "        vertical-align: top;\n",
       "    }\n",
       "\n",
       "    .dataframe thead th {\n",
       "        text-align: right;\n",
       "    }\n",
       "</style>\n",
       "<table border=\"1\" class=\"dataframe\">\n",
       "  <thead>\n",
       "    <tr style=\"text-align: right;\">\n",
       "      <th></th>\n",
       "      <th>count</th>\n",
       "      <th>mean</th>\n",
       "      <th>std</th>\n",
       "      <th>min</th>\n",
       "      <th>25%</th>\n",
       "      <th>50%</th>\n",
       "      <th>75%</th>\n",
       "      <th>max</th>\n",
       "    </tr>\n",
       "  </thead>\n",
       "  <tbody>\n",
       "    <tr>\n",
       "      <th>TransactionAmount</th>\n",
       "      <td>1041614.00</td>\n",
       "      <td>1317.25</td>\n",
       "      <td>2781.44</td>\n",
       "      <td>8.00</td>\n",
       "      <td>160.00</td>\n",
       "      <td>457.50</td>\n",
       "      <td>1200.00</td>\n",
       "      <td>20000.00</td>\n",
       "    </tr>\n",
       "    <tr>\n",
       "      <th>CustAccountBalance</th>\n",
       "      <td>1041614.00</td>\n",
       "      <td>86854.65</td>\n",
       "      <td>223902.03</td>\n",
       "      <td>3.35</td>\n",
       "      <td>4728.14</td>\n",
       "      <td>16768.52</td>\n",
       "      <td>57428.85</td>\n",
       "      <td>1586508.61</td>\n",
       "    </tr>\n",
       "  </tbody>\n",
       "</table>\n",
       "</div>"
      ],
      "text/plain": [
       "                        count     mean       std  min     25%      50%  \\\n",
       "TransactionAmount  1041614.00  1317.25   2781.44 8.00  160.00   457.50   \n",
       "CustAccountBalance 1041614.00 86854.65 223902.03 3.35 4728.14 16768.52   \n",
       "\n",
       "                        75%        max  \n",
       "TransactionAmount   1200.00   20000.00  \n",
       "CustAccountBalance 57428.85 1586508.61  "
      ]
     },
     "execution_count": 29,
     "metadata": {},
     "output_type": "execute_result"
    }
   ],
   "source": [
    "# Create capped copy for plotting ONLY\n",
    "eda = data.copy()\n",
    "for col in [\"TransactionAmount\", \"CustAccountBalance\"]:\n",
    "    lower, upper = eda[col].quantile([0.01, 0.99])\n",
    "    eda[col] = eda[col].clip(lower, upper)\n",
    "\n",
    "print(\"✅ Created capped copy 'eda' for visualizations\")\n",
    "print(\"✅ Original 'data' remains unchanged for modeling\")\n",
    "eda[[\"TransactionAmount\", \"CustAccountBalance\"]].describe().T\n"
   ]
  },
  {
   "cell_type": "markdown",
   "metadata": {},
   "source": [
    "### 3.4 Distribution plots\n"
   ]
  },
  {
   "cell_type": "code",
   "execution_count": 30,
   "metadata": {},
   "outputs": [
    {
     "data": {
      "image/png": "[encoded data removed]",
      "text/plain": [
       "<Figure size 1400x500 with 2 Axes>"
      ]
     },
     "metadata": {},
     "output_type": "display_data"
    }
   ],
   "source": [
    "fig, axes = plt.subplots(1, 2, figsize=(14, 5))\n",
    "sns.histplot(eda[\"TransactionAmount\"], kde=True, ax=axes[0], bins=50)\n",
    "axes[0].set_title(\"Transaction Amount (capped 1%–99%)\")\n",
    "axes[0].set_xlabel(\"Amount (INR)\")\n",
    "sns.histplot(eda[\"CustAccountBalance\"], kde=True, ax=axes[1], bins=50, color=\"coral\")\n",
    "axes[1].set_title(\"Account Balance (capped 1%–99%)\")\n",
    "axes[1].set_xlabel(\"Balance (INR)\")\n",
    "plt.tight_layout()\n",
    "plt.show()\n"
   ]
  },
  {
   "cell_type": "markdown",
   "metadata": {},
   "source": [
    "**Insights:**\n",
    "- Both distributions remain **right-skewed** even after capping\n",
    "- Most transactions are small (mode ~₹500); most balances are low-to-mid range\n",
    "- Long tail suggests a **small group of high-value customers** drives large monetary volume\n"
   ]
  },
  {
   "cell_type": "markdown",
   "metadata": {},
   "source": [
    "### 3.5 Categorical analysis — Gender and Location\n"
   ]
  },
  {
   "cell_type": "code",
   "execution_count": 31,
   "metadata": {},
   "outputs": [
    {
     "name": "stdout",
     "output_type": "stream",
     "text": [
      "Gender distribution:\n",
      "CustGender\n",
      "M    760978\n",
      "F    280635\n",
      "T         1\n",
      "Name: count, dtype: int64\n",
      "\n",
      "Percentage Male: 73.1%\n",
      "\n",
      "Top 10 locations:\n",
      "CustLocation\n",
      "MUMBAI       101997\n",
      "NEW DELHI     84143\n",
      "BANGALORE     81330\n",
      "GURGAON       73594\n",
      "DELHI         70549\n",
      "NOIDA         32656\n",
      "CHENNAI       29840\n",
      "PUNE          25690\n",
      "HYDERABAD     22976\n",
      "THANE         21397\n",
      "Name: count, dtype: int64\n"
     ]
    }
   ],
   "source": [
    "print(\"Gender distribution:\")\n",
    "print(data[\"CustGender\"].value_counts())\n",
    "print(f\"\\nPercentage Male: {100*data['CustGender'].value_counts(normalize=True)['M']:.1f}%\")\n",
    "print(\"\\nTop 10 locations:\")\n",
    "print(data[\"CustLocation\"].value_counts().head(10))\n"
   ]
  },
  {
   "cell_type": "code",
   "execution_count": 32,
   "metadata": {},
   "outputs": [
    {
     "data": {
      "image/png": "[encoded data removed]",
      "text/plain": [
       "<Figure size 1400x500 with 2 Axes>"
      ]
     },
     "metadata": {},
     "output_type": "display_data"
    }
   ],
   "source": [
    "fig, axes = plt.subplots(1, 2, figsize=(14, 5))\n",
    "data[\"CustGender\"].value_counts().plot.bar(ax=axes[0], color=\"steelblue\")\n",
    "axes[0].set_title(\"Transactions by Gender\")\n",
    "axes[0].set_ylabel(\"Count\")\n",
    "axes[0].set_xlabel(\"Gender\")\n",
    "\n",
    "data[\"CustLocation\"].value_counts().head(10).plot.barh(ax=axes[1], color=\"coral\")\n",
    "axes[1].set_title(\"Top 10 Locations by Transaction Count\")\n",
    "axes[1].set_xlabel(\"Count\")\n",
    "axes[1].set_ylabel(\"Location\")\n",
    "plt.tight_layout()\n",
    "plt.show()\n"
   ]
  },
  {
   "cell_type": "markdown",
   "metadata": {},
   "source": [
    "**Insights:**\n",
    "- **Male-dominated:** ~73% of transactions are from male customers\n",
    "- **Urban concentration:** Top 3 cities (Mumbai, New Delhi, Bangalore) account for ~25% of transactions\n",
    "- **Geographic targeting opportunity:** Focus marketing in tier-1 cities where volume is highest\n"
   ]
  },
  {
   "cell_type": "markdown",
   "metadata": {},
   "source": [
    "### 3.6 Monthly trends\n"
   ]
  },
  {
   "cell_type": "code",
   "execution_count": 33,
   "metadata": {},
   "outputs": [
    {
     "data": {
      "image/png": "[encoded data removed]",
      "text/plain": [
       "<Figure size 1000x700 with 2 Axes>"
      ]
     },
     "metadata": {},
     "output_type": "display_data"
    },
    {
     "data": {
      "text/html": [
       "<div>\n",
       "<style scoped>\n",
       "    .dataframe tbody tr th:only-of-type {\n",
       "        vertical-align: middle;\n",
       "    }\n",
       "\n",
       "    .dataframe tbody tr th {\n",
       "        vertical-align: top;\n",
       "    }\n",
       "\n",
       "    .dataframe thead th {\n",
       "        text-align: right;\n",
       "    }\n",
       "</style>\n",
       "<table border=\"1\" class=\"dataframe\">\n",
       "  <thead>\n",
       "    <tr style=\"text-align: right;\">\n",
       "      <th></th>\n",
       "      <th>YearMonth</th>\n",
       "      <th>tx_count</th>\n",
       "      <th>total_amount</th>\n",
       "    </tr>\n",
       "  </thead>\n",
       "  <tbody>\n",
       "    <tr>\n",
       "      <th>0</th>\n",
       "      <td>2016-08</td>\n",
       "      <td>649243</td>\n",
       "      <td>1018462195.30</td>\n",
       "    </tr>\n",
       "    <tr>\n",
       "      <th>1</th>\n",
       "      <td>2016-09</td>\n",
       "      <td>388727</td>\n",
       "      <td>605180800.35</td>\n",
       "    </tr>\n",
       "    <tr>\n",
       "      <th>2</th>\n",
       "      <td>2016-10</td>\n",
       "      <td>3644</td>\n",
       "      <td>7624606.07</td>\n",
       "    </tr>\n",
       "  </tbody>\n",
       "</table>\n",
       "</div>"
      ],
      "text/plain": [
       "  YearMonth  tx_count  total_amount\n",
       "0   2016-08    649243 1018462195.30\n",
       "1   2016-09    388727  605180800.35\n",
       "2   2016-10      3644    7624606.07"
      ]
     },
     "execution_count": 33,
     "metadata": {},
     "output_type": "execute_result"
    }
   ],
   "source": [
    "data[\"YearMonth\"] = data[\"TransactionDate\"].dt.to_period(\"M\").astype(str)\n",
    "monthly = data.groupby(\"YearMonth\").agg(\n",
    "    tx_count=(\"TransactionID\", \"count\"),\n",
    "    total_amount=(\"TransactionAmount\", \"sum\")\n",
    ").reset_index()\n",
    "\n",
    "fig, axes = plt.subplots(2, 1, figsize=(10, 7), sharex=True)\n",
    "axes[0].plot(monthly[\"YearMonth\"], monthly[\"tx_count\"], marker=\"o\", linewidth=2)\n",
    "axes[0].set_title(\"Monthly Transaction Count\", fontsize=14, fontweight=\"bold\")\n",
    "axes[0].set_ylabel(\"Transactions\")\n",
    "axes[0].grid(True, alpha=0.3)\n",
    "\n",
    "axes[1].plot(monthly[\"YearMonth\"], monthly[\"total_amount\"]/1e6, marker=\"o\", color=\"orange\", linewidth=2)\n",
    "axes[1].set_title(\"Monthly Total Amount\", fontsize=14, fontweight=\"bold\")\n",
    "axes[1].set_ylabel(\"Amount (Million INR)\")\n",
    "axes[1].set_xlabel(\"Month\")\n",
    "axes[1].grid(True, alpha=0.3)\n",
    "plt.xticks(rotation=45)\n",
    "plt.tight_layout()\n",
    "plt.show()\n",
    "\n",
    "monthly\n"
   ]
  },
  {
   "cell_type": "markdown",
   "metadata": {},
   "source": [
    "**Insights:**\n",
    "- **Declining trend:** Both transaction volume and amount decline sharply from August to October\n",
    "- August had ~650K transactions, October had only ~3.6K\n",
    "- **Possible explanations:**\n",
    "  - Data collection window (August = full month, October = partial)\n",
    "  - Seasonal effect (post-festival slowdown)\n",
    "  - Data quality issue (missing October data)\n"
   ]
  },
  {
   "cell_type": "markdown",
   "metadata": {},
   "source": [
    "---\n",
    "## 4. RFM Segmentation\n",
    "\n",
    "**RFM** = Recency, Frequency, Monetary\n",
    "- **Recency:** How recently did the customer transact? (lower = better → recent customers are engaged)\n",
    "- **Frequency:** How often do they transact? (higher = better → frequent buyers are loyal)\n",
    "- **Monetary:** How much do they spend? (higher = better → high spenders are valuable)\n"
   ]
  },
  {
   "cell_type": "markdown",
   "metadata": {},
   "source": [
    "### 4.1 Compute RFM features\n"
   ]
  },
  {
   "cell_type": "code",
   "execution_count": 34,
   "metadata": {},
   "outputs": [
    {
     "name": "stdout",
     "output_type": "stream",
     "text": [
      "RFM table: 879,358 customers\n"
     ]
    },
    {
     "data": {
      "text/html": [
       "<div>\n",
       "<style scoped>\n",
       "    .dataframe tbody tr th:only-of-type {\n",
       "        vertical-align: middle;\n",
       "    }\n",
       "\n",
       "    .dataframe tbody tr th {\n",
       "        vertical-align: top;\n",
       "    }\n",
       "\n",
       "    .dataframe thead th {\n",
       "        text-align: right;\n",
       "    }\n",
       "</style>\n",
       "<table border=\"1\" class=\"dataframe\">\n",
       "  <thead>\n",
       "    <tr style=\"text-align: right;\">\n",
       "      <th></th>\n",
       "      <th>CustomerID</th>\n",
       "      <th>recency_days</th>\n",
       "      <th>frequency</th>\n",
       "      <th>monetary</th>\n",
       "    </tr>\n",
       "  </thead>\n",
       "  <tbody>\n",
       "    <tr>\n",
       "      <th>0</th>\n",
       "      <td>C1010011</td>\n",
       "      <td>26</td>\n",
       "      <td>2</td>\n",
       "      <td>5106.00</td>\n",
       "    </tr>\n",
       "    <tr>\n",
       "      <th>1</th>\n",
       "      <td>C1010012</td>\n",
       "      <td>69</td>\n",
       "      <td>1</td>\n",
       "      <td>1499.00</td>\n",
       "    </tr>\n",
       "    <tr>\n",
       "      <th>2</th>\n",
       "      <td>C1010014</td>\n",
       "      <td>76</td>\n",
       "      <td>2</td>\n",
       "      <td>1455.00</td>\n",
       "    </tr>\n",
       "    <tr>\n",
       "      <th>3</th>\n",
       "      <td>C1010018</td>\n",
       "      <td>37</td>\n",
       "      <td>1</td>\n",
       "      <td>30.00</td>\n",
       "    </tr>\n",
       "    <tr>\n",
       "      <th>4</th>\n",
       "      <td>C1010024</td>\n",
       "      <td>65</td>\n",
       "      <td>1</td>\n",
       "      <td>5000.00</td>\n",
       "    </tr>\n",
       "    <tr>\n",
       "      <th>5</th>\n",
       "      <td>C1010028</td>\n",
       "      <td>54</td>\n",
       "      <td>1</td>\n",
       "      <td>557.00</td>\n",
       "    </tr>\n",
       "    <tr>\n",
       "      <th>6</th>\n",
       "      <td>C1010031</td>\n",
       "      <td>79</td>\n",
       "      <td>2</td>\n",
       "      <td>1864.00</td>\n",
       "    </tr>\n",
       "    <tr>\n",
       "      <th>7</th>\n",
       "      <td>C1010035</td>\n",
       "      <td>56</td>\n",
       "      <td>2</td>\n",
       "      <td>750.00</td>\n",
       "    </tr>\n",
       "    <tr>\n",
       "      <th>8</th>\n",
       "      <td>C1010036</td>\n",
       "      <td>57</td>\n",
       "      <td>1</td>\n",
       "      <td>208.00</td>\n",
       "    </tr>\n",
       "    <tr>\n",
       "      <th>9</th>\n",
       "      <td>C1010037</td>\n",
       "      <td>74</td>\n",
       "      <td>1</td>\n",
       "      <td>19680.00</td>\n",
       "    </tr>\n",
       "  </tbody>\n",
       "</table>\n",
       "</div>"
      ],
      "text/plain": [
       "  CustomerID  recency_days  frequency  monetary\n",
       "0   C1010011            26          2   5106.00\n",
       "1   C1010012            69          1   1499.00\n",
       "2   C1010014            76          2   1455.00\n",
       "3   C1010018            37          1     30.00\n",
       "4   C1010024            65          1   5000.00\n",
       "5   C1010028            54          1    557.00\n",
       "6   C1010031            79          2   1864.00\n",
       "7   C1010035            56          2    750.00\n",
       "8   C1010036            57          1    208.00\n",
       "9   C1010037            74          1  19680.00"
      ]
     },
     "execution_count": 34,
     "metadata": {},
     "output_type": "execute_result"
    }
   ],
   "source": [
    "snapshot_date = data[\"TransactionDate\"].max() + pd.Timedelta(days=1)\n",
    "\n",
    "rfm = data.groupby(\"CustomerID\").agg(\n",
    "    recency_days=(\"TransactionDate\", lambda x: (snapshot_date - x.max()).days),\n",
    "    frequency=(\"TransactionID\", \"count\"),\n",
    "    monetary=(\"TransactionAmount\", \"sum\")\n",
    ").reset_index()\n",
    "\n",
    "print(f\"RFM table: {len(rfm):,} customers\")\n",
    "rfm.head(10)\n"
   ]
  },
  {
   "cell_type": "markdown",
   "metadata": {},
   "source": [
    "### 4.2 Assign RFM scores (quintiles 1–5)\n",
    "\n",
    "We score each metric using **quantiles** (divide customers into 5 equal groups):\n",
    "- **R score:** 5 = most recent, 1 = least recent (inverted because lower recency days = better)\n",
    "- **F score:** 5 = most frequent, 1 = least frequent\n",
    "- **M score:** 5 = highest spender, 1 = lowest spender\n"
   ]
  },
  {
   "cell_type": "code",
   "execution_count": 35,
   "metadata": {},
   "outputs": [
    {
     "data": {
      "text/html": [
       "<div>\n",
       "<style scoped>\n",
       "    .dataframe tbody tr th:only-of-type {\n",
       "        vertical-align: middle;\n",
       "    }\n",
       "\n",
       "    .dataframe tbody tr th {\n",
       "        vertical-align: top;\n",
       "    }\n",
       "\n",
       "    .dataframe thead th {\n",
       "        text-align: right;\n",
       "    }\n",
       "</style>\n",
       "<table border=\"1\" class=\"dataframe\">\n",
       "  <thead>\n",
       "    <tr style=\"text-align: right;\">\n",
       "      <th></th>\n",
       "      <th>CustomerID</th>\n",
       "      <th>recency_days</th>\n",
       "      <th>frequency</th>\n",
       "      <th>monetary</th>\n",
       "      <th>R_score</th>\n",
       "      <th>F_score</th>\n",
       "      <th>M_score</th>\n",
       "      <th>RFM_score</th>\n",
       "    </tr>\n",
       "  </thead>\n",
       "  <tbody>\n",
       "    <tr>\n",
       "      <th>0</th>\n",
       "      <td>C1010011</td>\n",
       "      <td>26</td>\n",
       "      <td>2</td>\n",
       "      <td>5106.00</td>\n",
       "      <td>5</td>\n",
       "      <td>5</td>\n",
       "      <td>5</td>\n",
       "      <td>555</td>\n",
       "    </tr>\n",
       "    <tr>\n",
       "      <th>1</th>\n",
       "      <td>C1010012</td>\n",
       "      <td>69</td>\n",
       "      <td>1</td>\n",
       "      <td>1499.00</td>\n",
       "      <td>2</td>\n",
       "      <td>1</td>\n",
       "      <td>4</td>\n",
       "      <td>214</td>\n",
       "    </tr>\n",
       "    <tr>\n",
       "      <th>2</th>\n",
       "      <td>C1010014</td>\n",
       "      <td>76</td>\n",
       "      <td>2</td>\n",
       "      <td>1455.00</td>\n",
       "      <td>1</td>\n",
       "      <td>5</td>\n",
       "      <td>4</td>\n",
       "      <td>154</td>\n",
       "    </tr>\n",
       "    <tr>\n",
       "      <th>3</th>\n",
       "      <td>C1010018</td>\n",
       "      <td>37</td>\n",
       "      <td>1</td>\n",
       "      <td>30.00</td>\n",
       "      <td>5</td>\n",
       "      <td>1</td>\n",
       "      <td>1</td>\n",
       "      <td>511</td>\n",
       "    </tr>\n",
       "    <tr>\n",
       "      <th>4</th>\n",
       "      <td>C1010024</td>\n",
       "      <td>65</td>\n",
       "      <td>1</td>\n",
       "      <td>5000.00</td>\n",
       "      <td>2</td>\n",
       "      <td>1</td>\n",
       "      <td>5</td>\n",
       "      <td>215</td>\n",
       "    </tr>\n",
       "    <tr>\n",
       "      <th>5</th>\n",
       "      <td>C1010028</td>\n",
       "      <td>54</td>\n",
       "      <td>1</td>\n",
       "      <td>557.00</td>\n",
       "      <td>3</td>\n",
       "      <td>1</td>\n",
       "      <td>3</td>\n",
       "      <td>313</td>\n",
       "    </tr>\n",
       "    <tr>\n",
       "      <th>6</th>\n",
       "      <td>C1010031</td>\n",
       "      <td>79</td>\n",
       "      <td>2</td>\n",
       "      <td>1864.00</td>\n",
       "      <td>1</td>\n",
       "      <td>5</td>\n",
       "      <td>4</td>\n",
       "      <td>154</td>\n",
       "    </tr>\n",
       "    <tr>\n",
       "      <th>7</th>\n",
       "      <td>C1010035</td>\n",
       "      <td>56</td>\n",
       "      <td>2</td>\n",
       "      <td>750.00</td>\n",
       "      <td>3</td>\n",
       "      <td>5</td>\n",
       "      <td>3</td>\n",
       "      <td>353</td>\n",
       "    </tr>\n",
       "    <tr>\n",
       "      <th>8</th>\n",
       "      <td>C1010036</td>\n",
       "      <td>57</td>\n",
       "      <td>1</td>\n",
       "      <td>208.00</td>\n",
       "      <td>3</td>\n",
       "      <td>1</td>\n",
       "      <td>2</td>\n",
       "      <td>312</td>\n",
       "    </tr>\n",
       "    <tr>\n",
       "      <th>9</th>\n",
       "      <td>C1010037</td>\n",
       "      <td>74</td>\n",
       "      <td>1</td>\n",
       "      <td>19680.00</td>\n",
       "      <td>1</td>\n",
       "      <td>1</td>\n",
       "      <td>5</td>\n",
       "      <td>115</td>\n",
       "    </tr>\n",
       "  </tbody>\n",
       "</table>\n",
       "</div>"
      ],
      "text/plain": [
       "  CustomerID  recency_days  frequency  monetary  R_score  F_score  M_score  \\\n",
       "0   C1010011            26          2   5106.00        5        5        5   \n",
       "1   C1010012            69          1   1499.00        2        1        4   \n",
       "2   C1010014            76          2   1455.00        1        5        4   \n",
       "3   C1010018            37          1     30.00        5        1        1   \n",
       "4   C1010024            65          1   5000.00        2        1        5   \n",
       "5   C1010028            54          1    557.00        3        1        3   \n",
       "6   C1010031            79          2   1864.00        1        5        4   \n",
       "7   C1010035            56          2    750.00        3        5        3   \n",
       "8   C1010036            57          1    208.00        3        1        2   \n",
       "9   C1010037            74          1  19680.00        1        1        5   \n",
       "\n",
       "  RFM_score  \n",
       "0       555  \n",
       "1       214  \n",
       "2       154  \n",
       "3       511  \n",
       "4       215  \n",
       "5       313  \n",
       "6       154  \n",
       "7       353  \n",
       "8       312  \n",
       "9       115  "
      ]
     },
     "execution_count": 35,
     "metadata": {},
     "output_type": "execute_result"
    }
   ],
   "source": [
    "rfm[\"R_score\"] = pd.qcut(rfm[\"recency_days\"].rank(method=\"first\"), 5, labels=[5,4,3,2,1]).astype(int)\n",
    "rfm[\"F_score\"] = pd.qcut(rfm[\"frequency\"].rank(method=\"first\"), 5, labels=[1,2,3,4,5]).astype(int)\n",
    "rfm[\"M_score\"] = pd.qcut(rfm[\"monetary\"].rank(method=\"first\"), 5, labels=[1,2,3,4,5]).astype(int)\n",
    "\n",
    "rfm[\"RFM_score\"] = rfm[\"R_score\"].astype(str) + rfm[\"F_score\"].astype(str) + rfm[\"M_score\"].astype(str)\n",
    "\n",
    "rfm.head(10)\n"
   ]
  },
  {
   "cell_type": "markdown",
   "metadata": {},
   "source": [
    "### 4.3 Map scores to business segments\n"
   ]
  },
  {
   "cell_type": "code",
   "execution_count": 36,
   "metadata": {},
   "outputs": [
    {
     "data": {
      "text/plain": [
       "segment\n",
       "Others                 350347\n",
       "Loyal                  138260\n",
       "Need Attention         119257\n",
       "Potential Loyalists    118111\n",
       "Champions               85382\n",
       "At Risk                 68001\n",
       "Name: count, dtype: int64"
      ]
     },
     "execution_count": 36,
     "metadata": {},
     "output_type": "execute_result"
    }
   ],
   "source": [
    "def assign_segment(row):\n",
    "    r, f, m = row[\"R_score\"], row[\"F_score\"], row[\"M_score\"]\n",
    "    if r >= 4 and f >= 4 and m >= 4:\n",
    "        return \"Champions\"\n",
    "    if r >= 4 and f >= 3:\n",
    "        return \"Loyal\"\n",
    "    if r >= 3 and f >= 2 and m >= 3:\n",
    "        return \"Potential Loyalists\"\n",
    "    if r <= 2 and f <= 2 and m <= 2:\n",
    "        return \"At Risk\"\n",
    "    if r <= 2 and f >= 4:\n",
    "        return \"Need Attention\"\n",
    "    return \"Others\"\n",
    "\n",
    "rfm[\"segment\"] = rfm.apply(assign_segment, axis=1)\n",
    "\n",
    "rfm[\"segment\"].value_counts()\n"
   ]
  },
  {
   "cell_type": "markdown",
   "metadata": {},
   "source": [
    "### 4.4 Segment profiles\n"
   ]
  },
  {
   "cell_type": "code",
   "execution_count": 37,
   "metadata": {},
   "outputs": [
    {
     "data": {
      "text/html": [
       "<div>\n",
       "<style scoped>\n",
       "    .dataframe tbody tr th:only-of-type {\n",
       "        vertical-align: middle;\n",
       "    }\n",
       "\n",
       "    .dataframe tbody tr th {\n",
       "        vertical-align: top;\n",
       "    }\n",
       "\n",
       "    .dataframe thead th {\n",
       "        text-align: right;\n",
       "    }\n",
       "</style>\n",
       "<table border=\"1\" class=\"dataframe\">\n",
       "  <thead>\n",
       "    <tr style=\"text-align: right;\">\n",
       "      <th></th>\n",
       "      <th>customers</th>\n",
       "      <th>avg_recency</th>\n",
       "      <th>avg_frequency</th>\n",
       "      <th>avg_monetary</th>\n",
       "    </tr>\n",
       "    <tr>\n",
       "      <th>segment</th>\n",
       "      <th></th>\n",
       "      <th></th>\n",
       "      <th></th>\n",
       "      <th></th>\n",
       "    </tr>\n",
       "  </thead>\n",
       "  <tbody>\n",
       "    <tr>\n",
       "      <th>Others</th>\n",
       "      <td>350347</td>\n",
       "      <td>59.69</td>\n",
       "      <td>1.01</td>\n",
       "      <td>1491.94</td>\n",
       "    </tr>\n",
       "    <tr>\n",
       "      <th>Loyal</th>\n",
       "      <td>138260</td>\n",
       "      <td>40.83</td>\n",
       "      <td>1.21</td>\n",
       "      <td>893.01</td>\n",
       "    </tr>\n",
       "    <tr>\n",
       "      <th>Need Attention</th>\n",
       "      <td>119257</td>\n",
       "      <td>71.30</td>\n",
       "      <td>1.23</td>\n",
       "      <td>1967.21</td>\n",
       "    </tr>\n",
       "    <tr>\n",
       "      <th>Potential Loyalists</th>\n",
       "      <td>118111</td>\n",
       "      <td>51.55</td>\n",
       "      <td>1.25</td>\n",
       "      <td>2995.83</td>\n",
       "    </tr>\n",
       "    <tr>\n",
       "      <th>Champions</th>\n",
       "      <td>85382</td>\n",
       "      <td>40.50</td>\n",
       "      <td>1.86</td>\n",
       "      <td>4522.60</td>\n",
       "    </tr>\n",
       "    <tr>\n",
       "      <th>At Risk</th>\n",
       "      <td>68001</td>\n",
       "      <td>72.20</td>\n",
       "      <td>1.00</td>\n",
       "      <td>154.56</td>\n",
       "    </tr>\n",
       "  </tbody>\n",
       "</table>\n",
       "</div>"
      ],
      "text/plain": [
       "                     customers  avg_recency  avg_frequency  avg_monetary\n",
       "segment                                                                 \n",
       "Others                  350347        59.69           1.01       1491.94\n",
       "Loyal                   138260        40.83           1.21        893.01\n",
       "Need Attention          119257        71.30           1.23       1967.21\n",
       "Potential Loyalists     118111        51.55           1.25       2995.83\n",
       "Champions                85382        40.50           1.86       4522.60\n",
       "At Risk                  68001        72.20           1.00        154.56"
      ]
     },
     "execution_count": 37,
     "metadata": {},
     "output_type": "execute_result"
    }
   ],
   "source": [
    "profiles = rfm.groupby(\"segment\").agg(\n",
    "    customers=(\"CustomerID\", \"count\"),\n",
    "    avg_recency=(\"recency_days\", \"mean\"),\n",
    "    avg_frequency=(\"frequency\", \"mean\"),\n",
    "    avg_monetary=(\"monetary\", \"mean\")\n",
    ").round(2).sort_values(\"customers\", ascending=False)\n",
    "\n",
    "profiles\n"
   ]
  },
  {
   "cell_type": "code",
   "execution_count": 38,
   "metadata": {},
   "outputs": [
    {
     "data": {
      "image/png": "[encoded data removed]",
      "text/plain": [
       "<Figure size 800x400 with 1 Axes>"
      ]
     },
     "metadata": {},
     "output_type": "display_data"
    }
   ],
   "source": [
    "profiles[\"customers\"].plot.barh(figsize=(8, 4), color=\"teal\")\n",
    "plt.title(\"Customer Count by Segment\", fontsize=14, fontweight=\"bold\")\n",
    "plt.xlabel(\"Customers\")\n",
    "plt.ylabel(\"Segment\")\n",
    "plt.tight_layout()\n",
    "plt.show()\n"
   ]
  },
  {
   "cell_type": "markdown",
   "metadata": {},
   "source": [
    "**Segment Insights:**\n",
    "- **Champions:** High R, F, M → best customers, prioritize retention\n",
    "- **Loyal:** Recent + frequent → nurture with loyalty programs\n",
    "- **Potential Loyalists:** Mid-range → upsell opportunities\n",
    "- **At Risk:** Low engagement → reactivation campaigns\n",
    "- **Need Attention:** Used to be frequent, now dormant → win-back offers\n"
   ]
  },
  {
   "cell_type": "markdown",
   "metadata": {},
   "source": [
    "---\n",
    "## 5. Save Outputs\n"
   ]
  },
  {
   "cell_type": "code",
   "execution_count": 39,
   "metadata": {},
   "outputs": [
    {
     "name": "stdout",
     "output_type": "stream",
     "text": [
      "✅ Saved:\n",
      "  - transactions_clean.csv (1,041,614 rows)\n",
      "  - rfm_scores.csv (879,358 rows)\n"
     ]
    }
   ],
   "source": [
    "from pathlib import Path\n",
    "\n",
    "out_dir = Path(\"../data/processed\")\n",
    "out_dir.mkdir(parents=True, exist_ok=True)\n",
    "\n",
    "data.to_csv(out_dir / \"transactions_clean.csv\", index=False)\n",
    "rfm.to_csv(out_dir / \"rfm_scores.csv\", index=False)\n",
    "\n",
    "print(\"✅ Saved:\")\n",
    "print(f\"  - transactions_clean.csv ({len(data):,} rows)\")\n",
    "print(f\"  - rfm_scores.csv ({len(rfm):,} rows)\")\n"
   ]
  },
  {
   "cell_type": "markdown",
   "metadata": {},
   "source": [
    "---\n",
    "## Summary\n",
    "\n",
    "### Data Cleaning\n",
    "✅ Parsed day-first dates with explicit format  \n",
    "✅ Fixed 2-digit year DOB issues (subtracted 100 years from future dates)  \n",
    "✅ Combined date + time into `TransactionDateTime`  \n",
    "✅ No duplicates found  \n",
    "\n",
    "### EDA Insights\n",
    "📊 **Data overview:** ~880k customers, 1.04M transactions (Aug–Oct 2016)  \n",
    "📊 **Gender:** Male-dominated (73%)  \n",
    "📊 **Geography:** Mumbai, New Delhi, Bangalore dominate  \n",
    "📊 **Distributions:** Heavy right skew → extreme outliers present  \n",
    "\n",
    "### Outlier Handling\n",
    "🔍 **Detection:** IQR method flags 10–13% as outliers; percentile method flags 2%  \n",
    "✂️ **Strategy:** Capped at 1%–99% for **visualizations only** (raw data preserved)  \n",
    "💡 **Rationale:** Balances visual clarity with data integrity for downstream modeling  \n",
    "\n",
    "### RFM Segmentation\n",
    "🎯 **Scored** customers on Recency, Frequency, Monetary (quintiles 1–5)  \n",
    "🎯 **Mapped** to business segments: Champions, Loyal, Potential Loyalists, At Risk, Need Attention, Others  \n",
    "🎯 **Exported** RFM table for KMeans clustering and Streamlit dashboard  \n",
    "\n",
    "### Next Steps\n",
    "1. **KMeans Clustering:** Refine segments using unsupervised learning\n",
    "2. **Streamlit Dashboard:** Interactive RFM explorer with filters and what-if scenarios\n",
    "3. **Model Evaluation:** Silhouette score, cluster profiles, business metrics\n"
   ]
  }
 ],
 "metadata": {
  "kernelspec": {
   "display_name": "Python 3 (ipykernel)",
   "language": "python",
   "name": "python3"
  },
  "language_info": {
   "codemirror_mode": {
    "name": "ipython",
    "version": 3
   },
   "file_extension": ".py",
   "mimetype": "text/x-python",
   "name": "python",
   "nbconvert_exporter": "python",
   "pygments_lexer": "ipython3",
   "version": "3.9.13"
  }
 },
 "nbformat": 4,
 "nbformat_minor": 4
}
